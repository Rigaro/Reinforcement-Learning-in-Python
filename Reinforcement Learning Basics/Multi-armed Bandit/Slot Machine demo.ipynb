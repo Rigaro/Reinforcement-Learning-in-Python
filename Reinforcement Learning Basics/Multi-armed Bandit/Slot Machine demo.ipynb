{
 "cells": [
  {
   "cell_type": "markdown",
   "metadata": {},
   "source": [
    "# Casino slot machine class\n",
    "A classic slot machine that either gives a reward or not with a given probability."
   ]
  },
  {
   "cell_type": "code",
   "execution_count": 1,
   "metadata": {},
   "outputs": [],
   "source": [
    "# Import just to be able to see autocomplete\n",
    "import numpy as np"
   ]
  },
  {
   "cell_type": "code",
   "execution_count": 2,
   "metadata": {},
   "outputs": [],
   "source": [
    "class SlotMachine:\n",
    "    # SlotMachine class, basic functionality\n",
    "    import numpy as np\n",
    "    \n",
    "    def __init__(self, probability):\n",
    "        self.probability = probability # The probability of giving a reward\n",
    "    \n",
    "    def pull(self):\n",
    "        # Simulates pulling the arm of a slot machine, which can either give a reward or not (returns 0 or 1)\n",
    "        \n",
    "        # First get a random number between 0 and 1\n",
    "        randomNumber = np.random.random_sample()\n",
    "        # Now check the with the probability and return 0 or 1\n",
    "        if randomNumber <= self.probability:\n",
    "            return 1\n",
    "        else:\n",
    "            return 0"
   ]
  },
  {
   "cell_type": "markdown",
   "metadata": {},
   "source": [
    "Let's test it out!"
   ]
  },
  {
   "cell_type": "code",
   "execution_count": 3,
   "metadata": {},
   "outputs": [],
   "source": [
    "# Create a slot machine\n",
    "mySlotMachine = SlotMachine(probability=0.1)"
   ]
  },
  {
   "cell_type": "code",
   "execution_count": 4,
   "metadata": {},
   "outputs": [],
   "source": [
    "# Run it for some samples\n",
    "totalOnes = 0\n",
    "sampleSize = 100000\n",
    "for i in range(sampleSize):\n",
    "    totalOnes += mySlotMachine.pull()"
   ]
  },
  {
   "cell_type": "code",
   "execution_count": 5,
   "metadata": {},
   "outputs": [
    {
     "data": {
      "text/plain": [
       "0.10078"
      ]
     },
     "execution_count": 5,
     "metadata": {},
     "output_type": "execute_result"
    }
   ],
   "source": [
    "# Estimate the probability\n",
    "totalOnes/sampleSize"
   ]
  }
 ],
 "metadata": {
  "kernelspec": {
   "display_name": "Python 3",
   "language": "python",
   "name": "python3"
  },
  "language_info": {
   "codemirror_mode": {
    "name": "ipython",
    "version": 3
   },
   "file_extension": ".py",
   "mimetype": "text/x-python",
   "name": "python",
   "nbconvert_exporter": "python",
   "pygments_lexer": "ipython3",
   "version": "3.7.4"
  }
 },
 "nbformat": 4,
 "nbformat_minor": 2
}
