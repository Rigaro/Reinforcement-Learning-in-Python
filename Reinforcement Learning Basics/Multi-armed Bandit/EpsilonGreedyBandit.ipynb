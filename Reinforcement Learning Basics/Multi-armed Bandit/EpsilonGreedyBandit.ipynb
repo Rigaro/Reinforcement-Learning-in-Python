{
 "cells": [
  {
   "cell_type": "markdown",
   "metadata": {},
   "source": [
    "# Epsilon-Greedy Bandit\n",
    "A demo of the multi-armed bandit problem with an epsilon-greed exploration algorithm. The bandit is simulated through sampling a gaussian distribution."
   ]
  },
  {
   "cell_type": "code",
   "execution_count": 1,
   "metadata": {},
   "outputs": [],
   "source": [
    "# All the imports\n",
    "import numpy as np\n",
    "import matplotlib.pyplot as plt\n",
    "%matplotlib inline"
   ]
  },
  {
   "cell_type": "markdown",
   "metadata": {},
   "source": [
    "## Multi-armed Bandit"
   ]
  },
  {
   "cell_type": "code",
   "execution_count": 2,
   "metadata": {},
   "outputs": [],
   "source": [
    "class Bandit():\n",
    "    # Simulates sampling from a bandit\n",
    "    \n",
    "    def __init__(self,mean):\n",
    "        # Create a bandit with the given true mean\n",
    "        self.mean = mean\n",
    "        self.estimated_mean = 0\n",
    "        self.sample_number = 0\n",
    "        self.current_sample = 0\n",
    "        \n",
    "    def pull(self):\n",
    "        # Simulates the action of pulling the arm of a bandit\n",
    "        self.current_sample = self.mean + np.random.randn()\n",
    "        self.sample_number += 1\n",
    "        return self.current_sample\n",
    "    \n",
    "    def calculate_mean(self):\n",
    "        # Calculates the mean up to the current point\n",
    "        if(self.sample_number < 1):\n",
    "            raise Exception(\"No samples have been acquired.\")\n",
    "                \n",
    "        self.estimated_mean = (1/self.sample_number)*self.current_sample + (1 - 1/self.sample_number)*self.estimated_mean\n",
    "        \n",
    "        return self.estimated_mean\n",
    "        \n",
    "    def sample_bandit(self):\n",
    "        # Obtains a new sample from the bandit by pulling from the sample\n",
    "        # and updating the mean. Returns the estimated mean\n",
    "        self.pull()\n",
    "        return self.calculate_mean()\n",
    "    \n",
    "    def get_estimated_mean(self):\n",
    "        return self.estimated_mean\n",
    "        "
   ]
  },
  {
   "cell_type": "markdown",
   "metadata": {},
   "source": [
    "## Epsilon-Greedy algorithm"
   ]
  },
  {
   "cell_type": "code",
   "execution_count": 3,
   "metadata": {},
   "outputs": [],
   "source": [
    "class EpsilonGreedy():\n",
    "    # Performs the computations of the epsilon-greed algorithm\n",
    "    \n",
    "    def __init__(self,epsilon,bandits):\n",
    "        self.epsilon = epsilon # Exploration rate\n",
    "        self.bandits = bandits # A list of bandits to be sampled\n",
    "        self.bandit_means = np.zeros(len(bandits)) # The observed means\n",
    "        self.cumulative_mean = 0\n",
    "        \n",
    "    def update(self):\n",
    "        # Samples all the bandits in the list\n",
    "        if(len(bandits) < 2):\n",
    "            raise Exception(\"The number of bandits should be greater than 1.\")\n",
    "        \n",
    "        bandit_number = 0\n",
    "        # Choose whether to sample a random bandit or the best so far\n",
    "        if(np.random.random_sample() < self.epsilon):\n",
    "            #bandit_number = np.random.randint(0, len(bandits)) # Random selection  \n",
    "            bandit_number = np.random.choice(len(bandits))\n",
    "        else:\n",
    "            bandit_number = np.argmax(self.bandit_means) # The current best\n",
    "            \n",
    "        # Now sample the bandit\n",
    "        sampled_mean = self.bandits[bandit_number].sample_bandit()\n",
    "        self.cumulative_mean += sampled_mean\n",
    "        self.bandit_means[bandit_number] = sampled_mean\n",
    "        \n",
    "        return np.argmax(self.bandit_means) # The current best\n",
    "    \n",
    "    def get_best_bandit(self):\n",
    "        return np.argmax(self.bandit_means) # The current best\n",
    "    \n",
    "    def get_best_mean_estimate(self):\n",
    "        return self.bandit_means[np.argmax(self.bandit_means)]\n",
    "    \n",
    "    def get_cumulative_mean(self):\n",
    "        return self.cumulative_mean\n",
    "    \n",
    "    def get_result(self):\n",
    "        message = \"I think the best bandit is bandit #\" + str(self.get_best_bandit()) + \" with a mean of \" + str(self.get_best_mean_estimate())\n",
    "        print(message)"
   ]
  },
  {
   "cell_type": "markdown",
   "metadata": {},
   "source": [
    "## Now let's test it out!"
   ]
  },
  {
   "cell_type": "code",
   "execution_count": 4,
   "metadata": {},
   "outputs": [],
   "source": [
    "# First create bandits\n",
    "bandits = [Bandit(mean=1), Bandit(mean=2), Bandit(mean=3), Bandit(mean=4), Bandit(mean=5)]"
   ]
  },
  {
   "cell_type": "code",
   "execution_count": 5,
   "metadata": {},
   "outputs": [],
   "source": [
    "# Now create the eg-algorithm\n",
    "eg = EpsilonGreedy(epsilon=0.05,bandits=bandits)"
   ]
  },
  {
   "cell_type": "code",
   "execution_count": 6,
   "metadata": {},
   "outputs": [
    {
     "name": "stdout",
     "output_type": "stream",
     "text": [
      "I think the best bandit is bandit #4 with a mean of 4.988453093048155\n"
     ]
    },
    {
     "data": {
      "text/plain": [
       "[<matplotlib.lines.Line2D at 0x1e3c7e260c8>]"
      ]
     },
     "execution_count": 6,
     "metadata": {},
     "output_type": "execute_result"
    },
    {
     "data": {
      "image/png": "[encoded data removed]",
      "text/plain": [
       "<Figure size 432x288 with 1 Axes>"
      ]
     },
     "metadata": {
      "needs_background": "light"
     },
     "output_type": "display_data"
    },
    {
     "data": {
      "image/png": "[encoded data removed]",
      "text/plain": [
       "<Figure size 432x288 with 1 Axes>"
      ]
     },
     "metadata": {
      "needs_background": "light"
     },
     "output_type": "display_data"
    }
   ],
   "source": [
    "# Now run it for a while and see what the best is\n",
    "sample_size = 2000\n",
    "cumulative_mean = np.zeros(sample_size)\n",
    "best_mean_estimate = np.zeros(sample_size)\n",
    "for num in range(sample_size):\n",
    "    eg.update()\n",
    "    cumulative_mean[num] = eg.get_cumulative_mean()\n",
    "    best_mean_estimate[num] = eg.get_best_mean_estimate()\n",
    "\n",
    "eg.get_result()\n",
    "plt.figure()\n",
    "plt.plot(cumulative_mean)\n",
    "plt.figure()\n",
    "plt.plot(best_mean_estimate)"
   ]
  },
  {
   "cell_type": "markdown",
   "metadata": {},
   "source": [
    "## Optimistic Greedy\n",
    "Uses optimistic initial values"
   ]
  },
  {
   "cell_type": "code",
   "execution_count": 7,
   "metadata": {},
   "outputs": [],
   "source": [
    "class OptimisticGreedy(EpsilonGreedy):\n",
    "    \n",
    "    def __init__(self,upper_limit,bandits):\n",
    "        self.upper_limit = upper_limit # Exploration rate\n",
    "        self.bandits = bandits # A list of bandits to be sampled\n",
    "        self.bandit_means = upper_limit*np.ones(len(bandits)) # The observed means\n",
    "        self.cumulative_mean = 0\n",
    "        \n",
    "    def update(self):\n",
    "        # Samples all the bandits in the list\n",
    "        if(len(bandits) < 2):\n",
    "            raise Exception(\"The number of bandits should be greater than 1.\")\n",
    "        \n",
    "        # Choose the current best to sample\n",
    "        bandit_number = np.argmax(self.bandit_means) # The current best\n",
    "            \n",
    "        # Now sample the bandit\n",
    "        sampled_mean = self.bandits[bandit_number].sample_bandit()\n",
    "        self.cumulative_mean += sampled_mean\n",
    "        self.bandit_means[bandit_number] = sampled_mean\n",
    "        \n",
    "        return np.argmax(self.bandit_means) # The current best"
   ]
  },
  {
   "cell_type": "code",
   "execution_count": 8,
   "metadata": {},
   "outputs": [],
   "source": [
    "# Now create the eg-algorithm\n",
    "og = OptimisticGreedy(upper_limit=6,bandits=bandits)"
   ]
  },
  {
   "cell_type": "code",
   "execution_count": 9,
   "metadata": {},
   "outputs": [
    {
     "name": "stdout",
     "output_type": "stream",
     "text": [
      "I think the best bandit is bandit #4 with a mean of 4.977224107545419\n"
     ]
    },
    {
     "data": {
      "text/plain": [
       "[<matplotlib.lines.Line2D at 0x1e3cb1eec88>]"
      ]
     },
     "execution_count": 9,
     "metadata": {},
     "output_type": "execute_result"
    },
    {
     "data": {
      "image/png": "[encoded data removed]",
      "text/plain": [
       "<Figure size 432x288 with 1 Axes>"
      ]
     },
     "metadata": {
      "needs_background": "light"
     },
     "output_type": "display_data"
    },
    {
     "data": {
      "image/png": "[encoded data removed]",
      "text/plain": [
       "<Figure size 432x288 with 1 Axes>"
      ]
     },
     "metadata": {
      "needs_background": "light"
     },
     "output_type": "display_data"
    }
   ],
   "source": [
    "# Now run it for a while and see what the best is\n",
    "sample_size = 2000\n",
    "cumulative_mean = np.zeros(sample_size)\n",
    "best_mean_estimate = np.zeros(sample_size)\n",
    "for num in range(sample_size):\n",
    "    og.update()\n",
    "    cumulative_mean[num] = og.get_cumulative_mean()\n",
    "    best_mean_estimate[num] = og.get_best_mean_estimate()\n",
    "\n",
    "og.get_result()\n",
    "plt.figure()\n",
    "plt.plot(cumulative_mean)\n",
    "plt.figure()\n",
    "plt.plot(best_mean_estimate)"
   ]
  },
  {
   "cell_type": "code",
   "execution_count": null,
   "metadata": {},
   "outputs": [],
   "source": []
  }
 ],
 "metadata": {
  "kernelspec": {
   "display_name": "Python 3",
   "language": "python",
   "name": "python3"
  },
  "language_info": {
   "codemirror_mode": {
    "name": "ipython",
    "version": 3
   },
   "file_extension": ".py",
   "mimetype": "text/x-python",
   "name": "python",
   "nbconvert_exporter": "python",
   "pygments_lexer": "ipython3",
   "version": "3.7.4"
  }
 },
 "nbformat": 4,
 "nbformat_minor": 2
}
